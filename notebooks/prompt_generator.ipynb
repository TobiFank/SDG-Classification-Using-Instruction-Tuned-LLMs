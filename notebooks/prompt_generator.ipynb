{
 "cells": [
  {
   "cell_type": "code",
   "id": "initial_id",
   "metadata": {
    "collapsed": true,
    "ExecuteTime": {
     "end_time": "2024-05-15T13:33:11.246329Z",
     "start_time": "2024-05-15T13:33:11.242420Z"
    }
   },
   "source": [
    "import pickle\n",
    "import os"
   ],
   "outputs": [],
   "execution_count": 1
  },
  {
   "cell_type": "code",
   "source": [
    "max_new_words = 300\n",
    "general_constraint = f\"Always provide answers that are short, concise and to the point. Keep your answer within {max_new_words} words. Ensure clarity and consistency in your responses, avoiding contradictory statements or redundancy.\""
   ],
   "metadata": {
    "collapsed": false,
    "ExecuteTime": {
     "end_time": "2024-05-15T13:33:11.248694Z",
     "start_time": "2024-05-15T13:33:11.247133Z"
    }
   },
   "id": "7f22440524ee213",
   "outputs": [],
   "execution_count": 2
  },
  {
   "metadata": {
    "ExecuteTime": {
     "end_time": "2024-05-15T13:33:11.250840Z",
     "start_time": "2024-05-15T13:33:11.249197Z"
    }
   },
   "cell_type": "code",
   "source": [
    "def save_prompt(prompt, filename, path):\n",
    "    with open(path + filename, 'wb') as f:\n",
    "        pickle.dump(prompt, f)\n",
    "        \n",
    "path = '../data/prompts/'"
   ],
   "id": "c1c69da50cc7def0",
   "outputs": [],
   "execution_count": 3
  },
  {
   "metadata": {
    "ExecuteTime": {
     "end_time": "2024-05-15T13:33:11.252865Z",
     "start_time": "2024-05-15T13:33:11.251514Z"
    }
   },
   "cell_type": "code",
   "source": [
    "if not os.path.exists(path):\n",
    "    os.makedirs(path)"
   ],
   "id": "f068aee181c2b83f",
   "outputs": [],
   "execution_count": 4
  },
  {
   "cell_type": "code",
   "source": [
    "sdg_description = open(f\"{path}SDG_Description.txt\", \"r\").read()\n",
    "\n",
    "replacements_default = {\n",
    "    'system': {\n",
    "        'sdg_description': sdg_description,\n",
    "        'general_constraint': general_constraint},\n",
    "    'user': {\n",
    "        'general_constraint': general_constraint}\n",
    "}\n",
    "\n",
    "generation_args_default = {\n",
    "    'max_new_tokens': max_new_words*1.25,\n",
    "    'do_sample': True,\n",
    "    'temperature': 0.8,\n",
    "    'top_k': 30,\n",
    "    'top_p': 0.95,\n",
    "    'num_return_sequences': 1,\n",
    "    'sep_token': 'token_not_set'\n",
    "}\n",
    "\n",
    "# pickle\n",
    "save_prompt(replacements_default, 'replacements_default.pickle', path)\n",
    "    \n",
    "save_prompt(generation_args_default, 'generation_args_default.pickle', path)"
   ],
   "metadata": {
    "collapsed": false,
    "ExecuteTime": {
     "end_time": "2024-05-15T13:33:11.255322Z",
     "start_time": "2024-05-15T13:33:11.253353Z"
    }
   },
   "id": "a1902573a504e82d",
   "outputs": [],
   "execution_count": 5
  },
  {
   "cell_type": "code",
   "source": [
    "core_themes_message = [\n",
    "    {\n",
    "        \"role\": \"system\",\n",
    "        \"content\": \"You are an AI expert in scientific abstract analysis. {general_constraint}\"\n",
    "    },\n",
    "    {\n",
    "        \"role\": \"user\",\n",
    "        \"content\": \"Summarize the primary topics, methods, and conclusions of the provided scientific abstract. Abstract:\\n\\\"{Abstract_Text}\\\"\"\n",
    "    }\n",
    "]\n",
    "\n",
    "save_prompt(core_themes_message, 'core_themes_extraction.pickle', path)"
   ],
   "metadata": {
    "collapsed": false,
    "ExecuteTime": {
     "end_time": "2024-05-15T13:33:11.257660Z",
     "start_time": "2024-05-15T13:33:11.255931Z"
    }
   },
   "id": "aa302180e044d9c8",
   "outputs": [],
   "execution_count": 6
  },
  {
   "cell_type": "code",
   "source": [
    "sdg_concepts_message_core_themes = [\n",
    "    {\n",
    "        \"role\": \"system\",\n",
    "        \"content\": \"You are an AI expert trained across multiple disciplines relevant to the Sustainable Development Goals (SDGs), including environmental, social, economic, cultural, and technological fields. {general_constraint}\\n {sdg_description}\"\n",
    "    },\n",
    "    {\n",
    "        \"role\": \"user\",\n",
    "        \"content\": \"Given the identified core themes:\\n\\\"{Core_Themes}\\\"\\n\\nAnalyze the following abstract for its direct relevance to the SDGs. Scientific Abstract and Title:\\n\\\"{Abstract_Text}\\\"\"\n",
    "    }\n",
    "]\n",
    "\n",
    "save_prompt(sdg_concepts_message_core_themes, 'sdg_concepts_extraction_core_themes.pickle', path)"
   ],
   "metadata": {
    "collapsed": false,
    "ExecuteTime": {
     "end_time": "2024-05-15T13:33:11.260230Z",
     "start_time": "2024-05-15T13:33:11.258248Z"
    }
   },
   "id": "dc37fa9a8f6c4701",
   "outputs": [],
   "execution_count": 7
  },
  {
   "cell_type": "code",
   "source": [
    "retrieval_message_core_themes = [\n",
    "    {\n",
    "        \"role\": \"system\",\n",
    "        \"content\": \"You are an AI trained across multiple disciplines relevant to the Sustainable Development Goals (SDGs), including environmental, social, economic, cultural, technological fields, and scientific analysis. Critically and objectively analyze texts for their contribution to Sustainable Development Goals (SDGs). Summarize the main goal of the provided SDG and assess whether the abstract directly contributes towards achieving this SDG. Justify instances where the abstract does not directly contribute to the SDG. {general_constraint}\"\n",
    "    },\n",
    "    {\n",
    "        \"role\": \"user\",\n",
    "        \"content\": \"Given the identified core themes:\\n\\\"{Core_Themes}\\\"\\n\\nAnalyze the following scientific abstract for its direct relevance to the SDGs \\\"{closest_abstract_sdgs}, {closest_sdg_centroid}\\\". Scientific Abstract and Title:\\n\\\"{Abstract_Text}\\\"\\n\\n\"\n",
    "    }\n",
    "]\n",
    "\n",
    "save_prompt(retrieval_message_core_themes, 'retrieval_relevance_extraction_core_themes.pickle', path)"
   ],
   "metadata": {
    "collapsed": false,
    "ExecuteTime": {
     "end_time": "2024-05-15T13:33:11.262851Z",
     "start_time": "2024-05-15T13:33:11.260888Z"
    }
   },
   "id": "b50b58c2081f7065",
   "outputs": [],
   "execution_count": 8
  },
  {
   "cell_type": "code",
   "source": [
    "merge_message_core_themes_similarity = [\n",
    "    {\n",
    "        \"role\": \"system\",\n",
    "        \"content\": \"You are an AI specialized in synthesizing and summarizing complex texts related to the same scientific abstract. Your task is to merge various inputs into a single, coherent summary. Focus specifically on the directly impacted Sustainable Development Goals (SDGs). Exclude irrelevant or indirectly affected SDGs, and correct any inconsistencies or inaccuracies in the information. All inputs provided are aspects of the same scientific abstract. {general_constraint}\"\n",
    "    },\n",
    "    {\n",
    "        \"role\": \"user\",\n",
    "        \"content\": \"Here are the texts to be summarized, all pertaining to the same scientific abstract: \\n\\n1. Scientific Abstract and Title:\\n\\\"{Abstract_Text}\\\"\\n\\n2. Core Themes of the Scientific Abstract:\\n\\\"{Core_Themes}\\\"\\n\\n3. SDG Concepts of the Scientific Abstract:\\n\\\"{SDG_Concepts}\\\"\\n\\n4. Additional Information about the Scientific Abstract:\\n\\\"{Retrieval}\\\"\\n\\nCreate a unified summary of these inputs, emphasizing the directly impacted SDGs and rectifying any inaccuracies or inconsistencies.\"\n",
    "    }\n",
    "]\n",
    "\n",
    "save_prompt(merge_message_core_themes_similarity, 'second_merge_prompt_similarity.pickle', path)"
   ],
   "metadata": {
    "collapsed": false,
    "ExecuteTime": {
     "end_time": "2024-05-15T13:33:11.265656Z",
     "start_time": "2024-05-15T13:33:11.263711Z"
    }
   },
   "id": "80ba418af9bb03e8",
   "outputs": [],
   "execution_count": 9
  },
  {
   "cell_type": "code",
   "source": [
    "defect_analysis_message = [\n",
    "    {\n",
    "        \"role\": \"system\",\n",
    "        \"content\": \"You are an AI trained in critical analysis and sustainable development goals (SDGs). Your task is to critically analyze the provided abstract against the provisional classification for alignment with relevant SDGs. Highlight any discrepancies, weak, or indirect connections. {general_constraint} Refer to the provided SDG descriptions for accurate comparisons.\\n\\n{sdg_description}\\n\\n{general_constraint}\"\n",
    "    },\n",
    "    {\n",
    "        \"role\": \"user\",\n",
    "        \"content\": \"Scientific Abstract and Title:\\n\\\"{Abstract_Text}\\\"\\n\\nProvisional Classification:\\n\\\"{Response_Text}\\\"\\n\\nAnalyze the provisional classification and identify any discrepancies, weak, or indirect connections. Justify your choices and provide enhancements.\"\n",
    "    }\n",
    "]\n",
    "\n",
    "save_prompt(defect_analysis_message, 'defect_analysis_prompt.pickle', path)"
   ],
   "metadata": {
    "collapsed": false,
    "ExecuteTime": {
     "end_time": "2024-05-15T13:33:11.268401Z",
     "start_time": "2024-05-15T13:33:11.266214Z"
    }
   },
   "id": "95205e6fcd97edd",
   "outputs": [],
   "execution_count": 10
  },
  {
   "cell_type": "code",
   "source": [
    "guided_optimization_message = [\n",
    "    {\n",
    "        \"role\": \"system\",\n",
    "        \"content\": \"You are an AI tasked with optimizing classifications related to Sustainable Development Goals (SDGs). Revise the provided provisional classification by addressing the identified enhancements. Ensure that your revised classification only includes directly relevant SDGs and clearly justifies the direct relevance of each selected SDG. Adjust the rankings and explanations to reflect a more accurate alignment with the SDGs.\\n\\n{general_constraint}\"\n",
    "    },\n",
    "    {\n",
    "        \"role\": \"user\",\n",
    "        \"content\": \"Scientific Abstract and Title:\\n\\\"{Abstract_Text}\\\"\\n\\nProvisional Classification:\\n\\\"{Defective_Response_Text}\\\"\\n\\nIdentified Enhancements:\\n\\\"{Identified_Issues_Text}\\\"\\n\\nRevise the provisional classification to include only directly relevant SDGs, justifying each choice and create a ranking to accurately resemble the SDG alignment.\"\n",
    "    }\n",
    "]\n",
    "\n",
    "save_prompt(guided_optimization_message, 'guided_optimization_prompt.pickle', path)"
   ],
   "metadata": {
    "collapsed": false,
    "ExecuteTime": {
     "end_time": "2024-05-15T13:33:11.270855Z",
     "start_time": "2024-05-15T13:33:11.269003Z"
    }
   },
   "id": "1b2bb882e1a1fe6a",
   "outputs": [],
   "execution_count": 11
  },
  {
   "cell_type": "code",
   "source": [
    "result_message_single_sdg_finetuned = [\n",
    "    {\n",
    "        \"role\": \"system\",\n",
    "        \"content\": \"As a precise AI, your specific function is to identify the single, most pertinent Sustainable Development Goal (SDG) from those mentioned in the input in relation to the abstract. Select the one SDG that is referenced in the input text as the primary SDG the research contributes to based on the content of the abstract. Your response must be formatted as 'SDG X', where 'X' is the number of the most relevant SDG from those mentioned in the input. Ensure your response strictly adheres to this format and excludes any justification or additional information.\\n\\n\"\n",
    "    },\n",
    "    {\n",
    "        \"role\": \"user\",\n",
    "        \"content\": \"Input:\\n[input]\\\"{DSRE_Response}\\\"[/input]\\n\"\n",
    "    }\n",
    "]\n",
    "\n",
    "save_prompt(result_message_single_sdg_finetuned, 'single_sdg_finetuned.pickle', path)"
   ],
   "metadata": {
    "collapsed": false,
    "ExecuteTime": {
     "end_time": "2024-05-15T13:33:11.273451Z",
     "start_time": "2024-05-15T13:33:11.271484Z"
    }
   },
   "id": "d6cf4a2d17b0176e",
   "outputs": [],
   "execution_count": 12
  },
  {
   "cell_type": "code",
   "source": [
    "result_message_all_sdg_finetuned = [\n",
    "    {\n",
    "        \"role\": \"system\",\n",
    "        \"content\": \"Analyze the provided input to identify which Sustainable Development Goals (SDGs) are directly impacted by the scientific abstract. Extract only the SDGs with clear contributions as mentioned in the input. Present your findings as a list of SDG numbers, separated by commas. Your response should be only this list, without additional justification or explanation.\"\n",
    "    },\n",
    "    {\n",
    "        \"role\": \"user\",\n",
    "        \"content\": \"Input:\\n[input]\\\"{DSRE_Response}\\\"[/input]\\n\"\n",
    "    }\n",
    "]\n",
    "\n",
    "save_prompt(result_message_all_sdg_finetuned, 'all_sdg_finetuned.pickle', path)"
   ],
   "metadata": {
    "collapsed": false,
    "ExecuteTime": {
     "end_time": "2024-05-15T13:33:11.280952Z",
     "start_time": "2024-05-15T13:33:11.278745Z"
    }
   },
   "id": "7d44fedf912b71d0",
   "outputs": [],
   "execution_count": 13
  },
  {
   "cell_type": "code",
   "source": [],
   "metadata": {
    "collapsed": false,
    "ExecuteTime": {
     "end_time": "2024-05-15T13:33:11.282896Z",
     "start_time": "2024-05-15T13:33:11.281656Z"
    }
   },
   "id": "18ccd7ed8d029f92",
   "outputs": [],
   "execution_count": 13
  }
 ],
 "metadata": {
  "kernelspec": {
   "display_name": "Python 3",
   "language": "python",
   "name": "python3"
  },
  "language_info": {
   "codemirror_mode": {
    "name": "ipython",
    "version": 2
   },
   "file_extension": ".py",
   "mimetype": "text/x-python",
   "name": "python",
   "nbconvert_exporter": "python",
   "pygments_lexer": "ipython2",
   "version": "2.7.6"
  }
 },
 "nbformat": 4,
 "nbformat_minor": 5
}
